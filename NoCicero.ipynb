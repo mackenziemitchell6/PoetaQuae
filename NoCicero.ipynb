{
 "cells": [
  {
   "cell_type": "code",
   "execution_count": 13,
   "metadata": {},
   "outputs": [],
   "source": [
    "import pandas as pd\n",
    "import requests\n",
    "from bs4 import BeautifulSoup\n",
    "from nltk.tokenize.repp import ReppTokenizer\n",
    "import numpy as np\n",
    "from cltk.tokenize.word import WordTokenizer\n",
    "from cltk.corpus.utils.importer import CorpusImporter\n",
    "from nltk.tokenize.punkt import PunktLanguageVars\n",
    "from cltk.stop.latin import STOPS_LIST\n",
    "from cltk.vector.word2vec import make_model\n",
    "from cltk.stem.latin.j_v import JVReplacer\n",
    "from nltk import FreqDist\n",
    "from sklearn.model_selection import train_test_split\n",
    "from sklearn.feature_extraction.text import CountVectorizer, TfidfVectorizer\n",
    "from sklearn.feature_extraction.text import TfidfTransformer\n",
    "from sklearn.dummy import DummyClassifier\n",
    "import matplotlib as plt\n",
    "import seaborn as sns\n",
    "%matplotlib inline\n",
    "import re\n",
    "cv=CountVectorizer(analyzer='word')\n",
    "j = JVReplacer()\n",
    "from cltk.lemmatize.latin.backoff import BackoffLatinLemmatizer\n",
    "lemmatizer = BackoffLatinLemmatizer()\n",
    "corpus_importer=CorpusImporter('latin')\n",
    "corpus_importer.list_corpora\n",
    "corpus_importer.import_corpus('latin_models_cltk')\n",
    "import pickle"
   ]
  },
  {
   "cell_type": "code",
   "execution_count": 2,
   "metadata": {},
   "outputs": [],
   "source": [
    "with open('caesar.pickle','rb') as f:\n",
    "    caesar=pickle.load(f)\n",
    "with open('ovid.pickle','rb') as f:\n",
    "    ovid=pickle.load(f)\n",
    "with open('cicero.pickle','rb') as f:\n",
    "    cicero=pickle.load(f)\n",
    "with open('catullus_stops.pkl','rb') as f:\n",
    "    catullus=pickle.load(f)\n",
    "with open('horace_stops.pkl','rb') as f:\n",
    "    horace=pickle.load(f)\n",
    "with open('virgil_stops.pkl','rb') as f:\n",
    "    virgil=pickle.load(f)\n",
    "with open('juvenal_stops.pkl','rb') as f:\n",
    "    juvenal=pickle.load(f)"
   ]
  },
  {
   "cell_type": "code",
   "execution_count": 3,
   "metadata": {},
   "outputs": [],
   "source": [
    "catullus_sentences=[' '.join(sentence) for sentence in catullus]\n",
    "virgil_sentences=[' '.join(sentence) for sentence in virgil]\n",
    "horace_sentences=[' '.join(sentence) for sentence in horace]\n",
    "juvenal_sentences=[' '.join(sentence) for sentence in juvenal]\n",
    "caesar_sentences=[' '.join(sentence) for sentence in caesar]\n",
    "ovid_sentences=[' '.join(sentence) for sentence in ovid]\n",
    "cicero_sentences=[' '.join(sentence) for sentence in cicero]"
   ]
  },
  {
   "cell_type": "code",
   "execution_count": 4,
   "metadata": {},
   "outputs": [],
   "source": [
    "catullus_labels=['catullus' for sentence in catullus_sentences]\n",
    "virgil_labels=['virgil' for sentence in virgil_sentences]\n",
    "horace_labels=['horace' for sentence in horace_sentences]\n",
    "juvenal_labels=['juvenal' for sentence in juvenal_sentences]\n",
    "caesar_labels=['caesar' for sentence in caesar_sentences]\n",
    "ovid_labels=['ovid' for sentence in ovid_sentences]\n",
    "cicero_labels=['cicero' for sentence in cicero_sentences]"
   ]
  },
  {
   "cell_type": "code",
   "execution_count": 5,
   "metadata": {},
   "outputs": [],
   "source": [
    "authy=(catullus_labels+virgil_labels+horace_labels+juvenal_labels+caesar_labels+ovid_labels+cicero_labels)"
   ]
  },
  {
   "cell_type": "code",
   "execution_count": 6,
   "metadata": {},
   "outputs": [],
   "source": [
    "authors=(catullus_labels+virgil_labels+horace_labels+juvenal_labels+caesar_labels+ovid_labels)"
   ]
  },
  {
   "cell_type": "code",
   "execution_count": 7,
   "metadata": {},
   "outputs": [],
   "source": [
    "dataa=(catullus_sentences + virgil_sentences + horace_sentences + juvenal_sentences + caesar_sentences + ovid_sentences + cicero_sentences)"
   ]
  },
  {
   "cell_type": "code",
   "execution_count": 8,
   "metadata": {},
   "outputs": [],
   "source": [
    "data=(catullus_sentences + virgil_sentences + horace_sentences + juvenal_sentences + caesar_sentences + ovid_sentences)"
   ]
  },
  {
   "cell_type": "code",
   "execution_count": 9,
   "metadata": {},
   "outputs": [],
   "source": [
    "from collections import defaultdict"
   ]
  },
  {
   "cell_type": "code",
   "execution_count": 10,
   "metadata": {},
   "outputs": [],
   "source": [
    "histdic=defaultdict(int)\n",
    "for a in authors:\n",
    "    histdic[a]+=1"
   ]
  },
  {
   "cell_type": "code",
   "execution_count": 11,
   "metadata": {},
   "outputs": [],
   "source": [
    "histdicWCic=defaultdict(int)\n",
    "for a in authy:\n",
    "    histdicWCic[a]+=1"
   ]
  },
  {
   "cell_type": "code",
   "execution_count": 18,
   "metadata": {},
   "outputs": [
    {
     "ename": "AttributeError",
     "evalue": "module 'matplotlib' has no attribute 'xlabel'",
     "output_type": "error",
     "traceback": [
      "\u001b[0;31m---------------------------------------------------------------------------\u001b[0m",
      "\u001b[0;31mAttributeError\u001b[0m                            Traceback (most recent call last)",
      "\u001b[0;32m<ipython-input-18-595d4d7115ff>\u001b[0m in \u001b[0;36m<module>\u001b[0;34m\u001b[0m\n\u001b[1;32m      2\u001b[0m \u001b[0mFigure\u001b[0m\u001b[0;34m(\u001b[0m\u001b[0mfigsize\u001b[0m\u001b[0;34m=\u001b[0m\u001b[0;34m(\u001b[0m\u001b[0;36m8\u001b[0m\u001b[0;34m,\u001b[0m\u001b[0;36m8\u001b[0m\u001b[0;34m)\u001b[0m\u001b[0;34m)\u001b[0m\u001b[0;34m\u001b[0m\u001b[0;34m\u001b[0m\u001b[0m\n\u001b[1;32m      3\u001b[0m \u001b[0msns\u001b[0m\u001b[0;34m.\u001b[0m\u001b[0mbarplot\u001b[0m\u001b[0;34m(\u001b[0m\u001b[0mx\u001b[0m\u001b[0;34m=\u001b[0m\u001b[0mlist\u001b[0m\u001b[0;34m(\u001b[0m\u001b[0mhistdic\u001b[0m\u001b[0;34m.\u001b[0m\u001b[0mkeys\u001b[0m\u001b[0;34m(\u001b[0m\u001b[0;34m)\u001b[0m\u001b[0;34m)\u001b[0m\u001b[0;34m,\u001b[0m\u001b[0my\u001b[0m\u001b[0;34m=\u001b[0m\u001b[0mlist\u001b[0m\u001b[0;34m(\u001b[0m\u001b[0mhistdic\u001b[0m\u001b[0;34m.\u001b[0m\u001b[0mvalues\u001b[0m\u001b[0;34m(\u001b[0m\u001b[0;34m)\u001b[0m\u001b[0;34m)\u001b[0m\u001b[0;34m)\u001b[0m\u001b[0;34m.\u001b[0m\u001b[0mset_title\u001b[0m\u001b[0;34m(\u001b[0m\u001b[0;34m'Distribution of Latin Authors Work'\u001b[0m\u001b[0;34m)\u001b[0m\u001b[0;34m\u001b[0m\u001b[0;34m\u001b[0m\u001b[0m\n\u001b[0;32m----> 4\u001b[0;31m \u001b[0mplt\u001b[0m\u001b[0;34m.\u001b[0m\u001b[0mxlabel\u001b[0m\u001b[0;34m(\u001b[0m\u001b[0;34m'Author'\u001b[0m\u001b[0;34m)\u001b[0m\u001b[0;34m\u001b[0m\u001b[0;34m\u001b[0m\u001b[0m\n\u001b[0m\u001b[1;32m      5\u001b[0m \u001b[0mplt\u001b[0m\u001b[0;34m.\u001b[0m\u001b[0mylabel\u001b[0m\u001b[0;34m(\u001b[0m\u001b[0;34m'Number of sentences'\u001b[0m\u001b[0;34m)\u001b[0m\u001b[0;34m\u001b[0m\u001b[0;34m\u001b[0m\u001b[0m\n\u001b[1;32m      6\u001b[0m \u001b[0mplt\u001b[0m\u001b[0;34m.\u001b[0m\u001b[0msavefig\u001b[0m\u001b[0;34m(\u001b[0m\u001b[0;34m'distributionNew.png'\u001b[0m\u001b[0;34m,\u001b[0m\u001b[0mformat\u001b[0m\u001b[0;34m=\u001b[0m\u001b[0;34m'png'\u001b[0m\u001b[0;34m)\u001b[0m\u001b[0;34m\u001b[0m\u001b[0;34m\u001b[0m\u001b[0m\n",
      "\u001b[0;31mAttributeError\u001b[0m: module 'matplotlib' has no attribute 'xlabel'"
     ]
    },
    {
     "data": {
      "image/png": "[encoded data removed]",
      "text/plain": [
       "<Figure size 432x288 with 1 Axes>"
      ]
     },
     "metadata": {
      "needs_background": "light"
     },
     "output_type": "display_data"
    }
   ],
   "source": [
    "from matplotlib.figure import Figure\n",
    "Figure(figsize=(8,8))\n",
    "sns.barplot(x=list(histdic.keys()),y=list(histdic.values())).set_title('Distribution of Latin Authors Work')\n",
    "plt.xlabel('Author')\n",
    "plt.ylabel('Number of sentences')\n",
    "plt.savefig('distributionNew.png',format='png')"
   ]
  },
  {
   "cell_type": "code",
   "execution_count": 19,
   "metadata": {},
   "outputs": [
    {
     "ename": "TypeError",
     "evalue": "'module' object is not callable",
     "output_type": "error",
     "traceback": [
      "\u001b[0;31m---------------------------------------------------------------------------\u001b[0m",
      "\u001b[0;31mTypeError\u001b[0m                                 Traceback (most recent call last)",
      "\u001b[0;32m<ipython-input-19-233bdda6c76b>\u001b[0m in \u001b[0;36m<module>\u001b[0;34m\u001b[0m\n\u001b[0;32m----> 1\u001b[0;31m \u001b[0mplt\u001b[0m\u001b[0;34m.\u001b[0m\u001b[0mfigure\u001b[0m\u001b[0;34m(\u001b[0m\u001b[0mfigsize\u001b[0m\u001b[0;34m=\u001b[0m\u001b[0;34m(\u001b[0m\u001b[0;36m8\u001b[0m\u001b[0;34m,\u001b[0m\u001b[0;36m8\u001b[0m\u001b[0;34m)\u001b[0m\u001b[0;34m)\u001b[0m\u001b[0;34m\u001b[0m\u001b[0;34m\u001b[0m\u001b[0m\n\u001b[0m\u001b[1;32m      2\u001b[0m \u001b[0msns\u001b[0m\u001b[0;34m.\u001b[0m\u001b[0mbarplot\u001b[0m\u001b[0;34m(\u001b[0m\u001b[0mx\u001b[0m\u001b[0;34m=\u001b[0m\u001b[0mlist\u001b[0m\u001b[0;34m(\u001b[0m\u001b[0mhistdicWCic\u001b[0m\u001b[0;34m.\u001b[0m\u001b[0mkeys\u001b[0m\u001b[0;34m(\u001b[0m\u001b[0;34m)\u001b[0m\u001b[0;34m)\u001b[0m\u001b[0;34m,\u001b[0m\u001b[0my\u001b[0m\u001b[0;34m=\u001b[0m\u001b[0mlist\u001b[0m\u001b[0;34m(\u001b[0m\u001b[0mhistdicWCic\u001b[0m\u001b[0;34m.\u001b[0m\u001b[0mvalues\u001b[0m\u001b[0;34m(\u001b[0m\u001b[0;34m)\u001b[0m\u001b[0;34m)\u001b[0m\u001b[0;34m)\u001b[0m\u001b[0;34m.\u001b[0m\u001b[0mset_title\u001b[0m\u001b[0;34m(\u001b[0m\u001b[0;34m'Distribution of Latin Authors Work'\u001b[0m\u001b[0;34m)\u001b[0m\u001b[0;34m\u001b[0m\u001b[0;34m\u001b[0m\u001b[0m\n\u001b[1;32m      3\u001b[0m \u001b[0mplt\u001b[0m\u001b[0;34m.\u001b[0m\u001b[0mxlabel\u001b[0m\u001b[0;34m(\u001b[0m\u001b[0;34m'Author'\u001b[0m\u001b[0;34m)\u001b[0m\u001b[0;34m\u001b[0m\u001b[0;34m\u001b[0m\u001b[0m\n\u001b[1;32m      4\u001b[0m \u001b[0mplt\u001b[0m\u001b[0;34m.\u001b[0m\u001b[0mylabel\u001b[0m\u001b[0;34m(\u001b[0m\u001b[0;34m'Number of sentences'\u001b[0m\u001b[0;34m)\u001b[0m\u001b[0;34m\u001b[0m\u001b[0;34m\u001b[0m\u001b[0m\n\u001b[1;32m      5\u001b[0m \u001b[0mplt\u001b[0m\u001b[0;34m.\u001b[0m\u001b[0msavefig\u001b[0m\u001b[0;34m(\u001b[0m\u001b[0;34m'distributionWCic.png'\u001b[0m\u001b[0;34m,\u001b[0m\u001b[0mformat\u001b[0m\u001b[0;34m=\u001b[0m\u001b[0;34m'png'\u001b[0m\u001b[0;34m)\u001b[0m\u001b[0;34m\u001b[0m\u001b[0;34m\u001b[0m\u001b[0m\n",
      "\u001b[0;31mTypeError\u001b[0m: 'module' object is not callable"
     ]
    }
   ],
   "source": [
    "plt.figure(figsize=(8,8))\n",
    "sns.barplot(x=list(histdicWCic.keys()),y=list(histdicWCic.values())).set_title('Distribution of Latin Authors Work')\n",
    "plt.xlabel('Author')\n",
    "plt.ylabel('Number of sentences')\n",
    "plt.savefig('distributionWCic.png',format='png')"
   ]
  },
  {
   "cell_type": "code",
   "execution_count": 90,
   "metadata": {},
   "outputs": [
    {
     "name": "stdout",
     "output_type": "stream",
     "text": [
      "Requirement already satisfied: wordcloud in /Users/mackenziemitchell/anaconda3/lib/python3.7/site-packages (1.5.0)\r\n",
      "Requirement already satisfied: pillow in /Users/mackenziemitchell/anaconda3/lib/python3.7/site-packages (from wordcloud) (5.4.1)\r\n",
      "Requirement already satisfied: numpy>=1.6.1 in /Users/mackenziemitchell/anaconda3/lib/python3.7/site-packages (from wordcloud) (1.16.2)\r\n"
     ]
    }
   ],
   "source": [
    "!pip install wordcloud"
   ]
  },
  {
   "cell_type": "code",
   "execution_count": 20,
   "metadata": {},
   "outputs": [],
   "source": [
    "from os import path\n",
    "from PIL import Image\n",
    "from wordcloud import WordCloud, ImageColorGenerator\n",
    "%matplotlib inline"
   ]
  },
  {
   "cell_type": "code",
   "execution_count": 21,
   "metadata": {},
   "outputs": [],
   "source": [
    "allwords=[]\n",
    "for sentence in data:\n",
    "    allwords.extend(sentence.split())"
   ]
  },
  {
   "cell_type": "code",
   "execution_count": 22,
   "metadata": {},
   "outputs": [],
   "source": [
    "tocloud=[]\n",
    "for w in allwords:\n",
    "    if w!=':':\n",
    "        if w!=';':\n",
    "            if w!='-':\n",
    "                if w!=\"'\":\n",
    "                    if w!=\",\":\n",
    "                        tocloud.append(w)"
   ]
  },
  {
   "cell_type": "code",
   "execution_count": 23,
   "metadata": {},
   "outputs": [],
   "source": [
    "dat=FreqDist(tocloud)"
   ]
  },
  {
   "cell_type": "code",
   "execution_count": 25,
   "metadata": {},
   "outputs": [
    {
     "ename": "AttributeError",
     "evalue": "module 'matplotlib' has no attribute 'imshow'",
     "output_type": "error",
     "traceback": [
      "\u001b[0;31m---------------------------------------------------------------------------\u001b[0m",
      "\u001b[0;31mAttributeError\u001b[0m                            Traceback (most recent call last)",
      "\u001b[0;32m<ipython-input-25-3eb9aada8b3d>\u001b[0m in \u001b[0;36m<module>\u001b[0;34m\u001b[0m\n\u001b[1;32m      6\u001b[0m \u001b[0mwc\u001b[0m\u001b[0;34m.\u001b[0m\u001b[0mgenerate_from_frequencies\u001b[0m\u001b[0;34m(\u001b[0m\u001b[0mdat\u001b[0m\u001b[0;34m)\u001b[0m\u001b[0;34m\u001b[0m\u001b[0;34m\u001b[0m\u001b[0m\n\u001b[1;32m      7\u001b[0m \u001b[0;31m# plt.figure(figsize=(10,10))\u001b[0m\u001b[0;34m\u001b[0m\u001b[0;34m\u001b[0m\u001b[0;34m\u001b[0m\u001b[0m\n\u001b[0;32m----> 8\u001b[0;31m plt.imshow(wc.recolor(color_func=grey_color_func, random_state=3),\n\u001b[0m\u001b[1;32m      9\u001b[0m            interpolation=\"bilinear\")\n\u001b[1;32m     10\u001b[0m \u001b[0;31m# plt.imshow(wc,interpolation='bilinear')\u001b[0m\u001b[0;34m\u001b[0m\u001b[0;34m\u001b[0m\u001b[0;34m\u001b[0m\u001b[0m\n",
      "\u001b[0;31mAttributeError\u001b[0m: module 'matplotlib' has no attribute 'imshow'"
     ]
    }
   ],
   "source": [
    "from matplotlib.pyplot import imshow\n",
    "wc=WordCloud(width=800,height=400)\n",
    "def grey_color_func(word, font_size, position, orientation, random_state=None,\n",
    "                    **kwargs):\n",
    "    return \"hsl(0, 0%%, %d%%)\" % random.randint(60, 100)\n",
    "wc.generate_from_frequencies(dat)\n",
    "# plt.figure(figsize=(10,10))\n",
    "plt.imshow(wc.recolor(color_func=grey_color_func, random_state=3),\n",
    "           interpolation=\"bilinear\")\n",
    "# plt.imshow(wc,interpolation='bilinear')\n",
    "plt.axis('off')\n",
    "# plt.show()\n",
    "plt.savefig('cloud.png',format='png')"
   ]
  },
  {
   "cell_type": "code",
   "execution_count": 26,
   "metadata": {
    "scrolled": true
   },
   "outputs": [],
   "source": [
    "x_train, x_test, y_train, y_test= train_test_split(data,authors,stratify=authors,random_state=42)"
   ]
  },
  {
   "cell_type": "code",
   "execution_count": 27,
   "metadata": {},
   "outputs": [],
   "source": [
    "cv=CountVectorizer()\n",
    "fordf=cv.fit_transform(x_train)\n",
    "cols=cv.get_feature_names()\n",
    "traindf=pd.DataFrame(fordf.toarray(),columns=cols)"
   ]
  },
  {
   "cell_type": "code",
   "execution_count": 28,
   "metadata": {
    "scrolled": true
   },
   "outputs": [],
   "source": [
    "# traindf['authors']=y_train\n",
    "# traindf.drop(columns=['10', '100', '101', '10307', '104', '1046', '106', '107', '108','10sqq'],inplace=True)"
   ]
  },
  {
   "cell_type": "code",
   "execution_count": 29,
   "metadata": {},
   "outputs": [],
   "source": [
    "drop_columns = '1100 1102 111 11444 115 118 12 120 121 122 123 125 125m 12sqq 13 1300 132 133 138 139k 14 140 143 144 147 149 14sqq 15 150 151 153 15374 155 156 159m 15sqq 16 161172 17 174m 17sqq 18 189 19 1916 193 194m 195 198 19sqq 1idem 20 200 201 201m 202 209 20m 20sqq 21 210 211 213 216 217 218 219 21920 22 220 22010 221 222 223 224 22433 225 226 227 2275 228 228m 229 22sqq 23 230 231 232 233 234 2348 234m 235 236 237 238 2386 239 23m 23sqq 24 240 24014 241 242 243 244 245 246 247 248 249 24m 24sqq 25 250 251 252 253 254 255 255k 256 257 258 2588 259 25m 26 260 261 262 262m 263 263m 264 265 266 267 268 26813 269 26918 27 270 271 272 273 274 275 276 276m 277 278 279 28 280 281 282 283 284 285 2851 28527 286 287 28722 288 289 289m 28sqq 29 290 290m 291 29116 2913 292 29296 293 29345 294 295 296 297 298 299 299m 2sq 2sqq 30 300 300m 301 301m 302 303 3035 304 305 306 307 308 308m 309 31 310 311 312 313 314 315 316 317 3174 318 318m 319 3197 320 321 322 323 323m 324 324m 325 326 327 328 329 32sq 33 330 33023 331 332 3321 333 334 335 336 337 337m 338 3387 339 340 341 342 343 343m 344 34415 34428 345 346 34617 347 3474 348 349 35 350 351 352 353 354 355 356 3568 357 358 35817 359 3597 360 361 36111 36119 362 362m 363 36328 364 364m 365 366 367 368 369 37 370 37015 371 372 373 373m 374 374k 375 376 3761 377 377sqq 378 379 3793 38 380 381 382 383 3831 384 385 386 387 388 389 390 391 392 393 394 395 396 397 398 399 399k 40 400 400d 401 402 403 404 40411 405 406 40616 4069 407 408 409 409m 410 411 412 413 414 415 416 417 41716 417m 418 419 4196 420 421 422 423 423m 424 424m 425 42524 426 427 428 429 42m 43 430 430msq 431 432 433 434 435 43517 436 437 438 439 4397 440 4407 441 442 443 444 445 446 447 448 449 450 451 452 453 454 455 456 4566 457 457k 458 459 462 47 470 472 480 482 483 484 485 486 487 49 491m 497m 498m 499 4sqq 50 500m 506 507 509 511 512m 519m 52 521m 522m 526m 533 534m 54 5425 55 550 553 555 56 562 566 58 584 586 5963 599 5artem 5et 5m 601 604 61 628 646 664 666 67 672 68 68m 69 6sq 70 70k 71 72 72m 73 757 76k 77 78 782 7sqq 80 81 82 821 824 82bib 83 85 85b 86 87 877 88 89 8sqq 90 92 9345 95 97 99 9sqq'.split()\n",
    "morecolumns=['10', '100', '101', '10307', '104', '1046', '106', '107', '108','10sqq','11']\n",
    "for m in morecolumns:\n",
    "    drop_columns.append(m)\n",
    "# testdf.drop(columns=drop_columns, inplace=True)"
   ]
  },
  {
   "cell_type": "code",
   "execution_count": 30,
   "metadata": {},
   "outputs": [],
   "source": [
    "fordftest=cv.transform(x_test)\n",
    "colstest=cv.get_feature_names()\n",
    "testdf=pd.DataFrame(fordftest.toarray(),columns=cols)\n",
    "# testdf['authors']=y_test\n",
    "# testdf.drop(columns=list(testdf.columns)[:345],inplace=True)"
   ]
  },
  {
   "cell_type": "code",
   "execution_count": 31,
   "metadata": {},
   "outputs": [],
   "source": [
    "from sklearn.feature_extraction.text import TfidfTransformer\n",
    "tff=TfidfTransformer(use_idf=False)\n",
    "tft=TfidfTransformer(use_idf=True)\n",
    "transtraindf=tff.fit_transform(fordf.toarray())\n",
    "idfdfdat=tft.fit_transform(fordf.toarray())"
   ]
  },
  {
   "cell_type": "code",
   "execution_count": 32,
   "metadata": {},
   "outputs": [],
   "source": [
    "non_idf_test = tff.transform(fordftest)\n",
    "idf_test = tft.transform(fordftest)\n",
    "non_idf_test_df = pd.DataFrame(non_idf_test.toarray(), columns = colstest)\n",
    "idf_test_df = pd.DataFrame(idf_test.toarray(), columns=colstest)"
   ]
  },
  {
   "cell_type": "code",
   "execution_count": 33,
   "metadata": {
    "scrolled": true
   },
   "outputs": [
    {
     "data": {
      "text/plain": [
       "12672"
      ]
     },
     "execution_count": 33,
     "metadata": {},
     "output_type": "execute_result"
    }
   ],
   "source": [
    "len(transtraindf.toarray())"
   ]
  },
  {
   "cell_type": "code",
   "execution_count": 34,
   "metadata": {},
   "outputs": [],
   "source": [
    "df_train=pd.DataFrame(transtraindf.toarray(),columns=cv.get_feature_names())\n",
    "# df_train.drop(columns=list(df_train.columns)[:345], inplace=True)"
   ]
  },
  {
   "cell_type": "code",
   "execution_count": 35,
   "metadata": {},
   "outputs": [],
   "source": [
    "df_idf_train=pd.DataFrame(idfdfdat.toarray(),columns=cv.get_feature_names())\n",
    "# df_idf_train.drop(columns=list(df_idf_train.columns)[:345],inplace=True)"
   ]
  },
  {
   "cell_type": "code",
   "execution_count": 36,
   "metadata": {},
   "outputs": [],
   "source": [
    "from sklearn.naive_bayes import MultinomialNB\n",
    "from sklearn.naive_bayes import ComplementNB"
   ]
  },
  {
   "cell_type": "code",
   "execution_count": 37,
   "metadata": {},
   "outputs": [],
   "source": [
    "mnd=MultinomialNB(alpha=1)\n",
    "cnb=ComplementNB(alpha=1)\n",
    "dummy=DummyClassifier()"
   ]
  },
  {
   "cell_type": "code",
   "execution_count": 38,
   "metadata": {},
   "outputs": [
    {
     "data": {
      "text/plain": [
       "DummyClassifier(constant=None, random_state=None, strategy='stratified')"
      ]
     },
     "execution_count": 38,
     "metadata": {},
     "output_type": "execute_result"
    }
   ],
   "source": [
    "dummy.fit(df_train,y_train)"
   ]
  },
  {
   "cell_type": "code",
   "execution_count": 39,
   "metadata": {
    "scrolled": true
   },
   "outputs": [
    {
     "data": {
      "text/plain": [
       "ComplementNB(alpha=1, class_prior=None, fit_prior=True, norm=False)"
      ]
     },
     "execution_count": 39,
     "metadata": {},
     "output_type": "execute_result"
    }
   ],
   "source": [
    "mnd.fit(df_train,y_train)\n",
    "cnb.fit(df_train,y_train)"
   ]
  },
  {
   "cell_type": "code",
   "execution_count": 40,
   "metadata": {},
   "outputs": [
    {
     "data": {
      "text/plain": [
       "DummyClassifier(constant=None, random_state=None, strategy='stratified')"
      ]
     },
     "execution_count": 40,
     "metadata": {},
     "output_type": "execute_result"
    }
   ],
   "source": [
    "dummy.fit(df_idf_train,y_train)"
   ]
  },
  {
   "cell_type": "code",
   "execution_count": 32,
   "metadata": {},
   "outputs": [
    {
     "data": {
      "text/plain": [
       "ComplementNB(alpha=1, class_prior=None, fit_prior=True, norm=False)"
      ]
     },
     "execution_count": 32,
     "metadata": {},
     "output_type": "execute_result"
    }
   ],
   "source": [
    "mnd.fit(df_idf_train,y_train)\n",
    "cnb.fit(df_idf_train,y_train)"
   ]
  },
  {
   "cell_type": "code",
   "execution_count": 44,
   "metadata": {},
   "outputs": [],
   "source": [
    "y_pred_d=dummy.predict(non_idf_test_df)"
   ]
  },
  {
   "cell_type": "code",
   "execution_count": 34,
   "metadata": {},
   "outputs": [],
   "source": [
    "y_pred_d_idf=dummy.predict(idf_test_df)"
   ]
  },
  {
   "cell_type": "code",
   "execution_count": 38,
   "metadata": {},
   "outputs": [],
   "source": [
    "import pandas as pd\n",
    "import matplotlib.pyplot as plt\n",
    "import seaborn as sns\n",
    "from sklearn.metrics import confusion_matrix\n",
    "def print_confusion_matrix(test_y, pred_y, class_names, filename, figsize = (10,7), fontsize=14):\n",
    "    \"\"\"Prints a confusion matrix, as returned by sklearn.metrics.confusion_matrix, as a heatmap.\n",
    "    \n",
    "    Arguments\n",
    "    ---------\n",
    "    confusion_matrix: numpy.ndarray\n",
    "        The numpy.ndarray object returned from a call to sklearn.metrics.confusion_matrix. \n",
    "        Similarly constructed ndarrays can also be used.\n",
    "    class_names: list\n",
    "        An ordered list of class names, in the order they index the given confusion matrix.\n",
    "    figsize: tuple\n",
    "        A 2-long tuple, the first value determining the horizontal size of the ouputted figure,\n",
    "        the second determining the vertical size. Defaults to (10,7).\n",
    "    fontsize: int\n",
    "        Font size for axes labels. Defaults to 14.\n",
    "        \n",
    "    Returns\n",
    "    -------\n",
    "    matplotlib.figure.Figure\n",
    "        The resulting confusion matrix figure\n",
    "    \"\"\"\n",
    "    confusionmatrix=confusion_matrix(test_y,pred_y,labels=class_names)\n",
    "    df_cm = pd.DataFrame(\n",
    "        confusionmatrix, index=class_names, columns=class_names, \n",
    "    )\n",
    "    fig = plt.figure(figsize=figsize)\n",
    "    try:\n",
    "        heatmap = sns.heatmap(df_cm, annot=True, fmt=\"d\")\n",
    "    except ValueError:\n",
    "        raise ValueError(\"Confusion matrix values must be integers.\")\n",
    "    heatmap.yaxis.set_ticklabels(heatmap.yaxis.get_ticklabels(), rotation=0, ha='right', fontsize=fontsize)\n",
    "    heatmap.xaxis.set_ticklabels(heatmap.xaxis.get_ticklabels(), rotation=45, ha='right', fontsize=fontsize)\n",
    "    plt.ylabel('True label')\n",
    "    plt.xlabel('Predicted label')\n",
    "    plt.savefig(filename)\n",
    "from sklearn.metrics import precision_score, recall_score, accuracy_score, f1_score\n",
    "def print_metrics(test, preds,labels):\n",
    "    print(labels)\n",
    "    print(\"Precision Score: {}\".format(precision_score(test, preds,average=None,labels=labels)))\n",
    "    print(\"Recall Score: {}\".format(recall_score(test, preds,average=None,labels=labels)))\n",
    "    print(\"Accuracy Score: {}\".format(accuracy_score(test, preds)))\n",
    "    print(\"F1 Score: {}\".format(f1_score(test, preds,average=None,labels=labels)))"
   ]
  },
  {
   "cell_type": "code",
   "execution_count": 45,
   "metadata": {},
   "outputs": [
    {
     "ename": "NameError",
     "evalue": "name 'print_confusion_matrix' is not defined",
     "output_type": "error",
     "traceback": [
      "\u001b[0;31m---------------------------------------------------------------------------\u001b[0m",
      "\u001b[0;31mNameError\u001b[0m                                 Traceback (most recent call last)",
      "\u001b[0;32m<ipython-input-45-5e29e42d5282>\u001b[0m in \u001b[0;36m<module>\u001b[0;34m\u001b[0m\n\u001b[0;32m----> 1\u001b[0;31m \u001b[0mconfusemtx\u001b[0m\u001b[0;34m=\u001b[0m\u001b[0mprint_confusion_matrix\u001b[0m\u001b[0;34m(\u001b[0m\u001b[0my_test\u001b[0m\u001b[0;34m,\u001b[0m\u001b[0my_pred_d\u001b[0m\u001b[0;34m,\u001b[0m\u001b[0mlist\u001b[0m\u001b[0;34m(\u001b[0m\u001b[0mset\u001b[0m\u001b[0;34m(\u001b[0m\u001b[0my_test\u001b[0m\u001b[0;34m)\u001b[0m\u001b[0;34m)\u001b[0m\u001b[0;34m,\u001b[0m\u001b[0;34m'dummy_idf_mtx.png'\u001b[0m\u001b[0;34m)\u001b[0m\u001b[0;34m\u001b[0m\u001b[0;34m\u001b[0m\u001b[0m\n\u001b[0m\u001b[1;32m      2\u001b[0m \u001b[0mprint_metrics\u001b[0m\u001b[0;34m(\u001b[0m\u001b[0my_test\u001b[0m\u001b[0;34m,\u001b[0m\u001b[0my_pred_d\u001b[0m\u001b[0;34m,\u001b[0m\u001b[0mlist\u001b[0m\u001b[0;34m(\u001b[0m\u001b[0mset\u001b[0m\u001b[0;34m(\u001b[0m\u001b[0my_test\u001b[0m\u001b[0;34m)\u001b[0m\u001b[0;34m)\u001b[0m\u001b[0;34m)\u001b[0m\u001b[0;34m\u001b[0m\u001b[0;34m\u001b[0m\u001b[0m\n",
      "\u001b[0;31mNameError\u001b[0m: name 'print_confusion_matrix' is not defined"
     ]
    }
   ],
   "source": [
    "confusemtx=print_confusion_matrix(y_test,y_pred_d,list(set(y_test)),'dummy_idf_mtx.png')\n",
    "print_metrics(y_test,y_pred_d,list(set(y_test)))"
   ]
  },
  {
   "cell_type": "code",
   "execution_count": 42,
   "metadata": {},
   "outputs": [
    {
     "name": "stdout",
     "output_type": "stream",
     "text": [
      "['juvenal', 'catullus', 'caesar', 'ovid', 'virgil', 'horace']\n",
      "Precision Score: [0.08333333 0.03723404 0.12915129 0.2541744  0.30061824 0.20316302]\n",
      "Recall Score: [0.0877193  0.03664921 0.12987013 0.25068618 0.29138577 0.21382843]\n",
      "Accuracy Score: 0.2206439393939394\n",
      "F1 Score: [0.08547009 0.03693931 0.12950971 0.25241824 0.29593001 0.20835933]\n"
     ]
    },
    {
     "data": {
      "image/png": "[encoded data removed]",
      "text/plain": [
       "<Figure size 720x504 with 2 Axes>"
      ]
     },
     "metadata": {
      "needs_background": "light"
     },
     "output_type": "display_data"
    }
   ],
   "source": [
    "confusemtx=print_confusion_matrix(y_test,y_pred_d,list(set(y_test)),'anotherdummy')\n",
    "print_metrics(y_test,y_pred_d,list(set(y_test)))\n",
    "# with open('dummtmtx.pickle','wb') as f:\n",
    "#     pickle.dump(confusemtx, f, pickle.HIGHEST_PROTOCOL)"
   ]
  },
  {
   "cell_type": "code",
   "execution_count": 65,
   "metadata": {},
   "outputs": [],
   "source": [
    "y_pred_m=mnd.predict(non_idf_test_df)\n",
    "y_pred_c=cnb.predict(non_idf_test_df)"
   ]
  },
  {
   "cell_type": "code",
   "execution_count": 43,
   "metadata": {},
   "outputs": [],
   "source": [
    "y_pred_m_idf=mnd.predict(idf_test_df)\n",
    "y_pred_c_idf=cnb.predict(idf_test_df)"
   ]
  },
  {
   "cell_type": "code",
   "execution_count": 68,
   "metadata": {
    "scrolled": false
   },
   "outputs": [
    {
     "data": {
      "text/plain": [
       "['catullus', 'caesar', 'ovid', 'virgil', 'horace', 'juvenal']"
      ]
     },
     "execution_count": 68,
     "metadata": {},
     "output_type": "execute_result"
    }
   ],
   "source": [
    "list(set(y_test))"
   ]
  },
  {
   "cell_type": "code",
   "execution_count": 49,
   "metadata": {},
   "outputs": [
    {
     "name": "stdout",
     "output_type": "stream",
     "text": [
      "['juvenal', 'catullus', 'caesar', 'ovid', 'virgil', 'horace']\n",
      "Precision Score: [0.62240664 0.59036145 0.79097744 0.68314425 0.66666667 0.79127726]\n",
      "Recall Score: [0.52631579 0.2565445  0.97588126 0.77127173 0.83895131 0.32522407]\n",
      "Accuracy Score: 0.6964962121212122\n",
      "F1 Score: [0.57034221 0.35766423 0.87375415 0.72453803 0.74295191 0.46098004]\n"
     ]
    },
    {
     "data": {
      "image/png": "[encoded data removed]",
      "text/plain": [
       "<Figure size 720x504 with 2 Axes>"
      ]
     },
     "metadata": {
      "needs_background": "light"
     },
     "output_type": "display_data"
    }
   ],
   "source": [
    "confusemtx=print_confusion_matrix(y_test,y_pred_c_idf,list(set(y_test)),'idf_cnlb')\n",
    "print_metrics(y_test,y_pred_c_idf,list(set(y_test)))\n",
    "# confusemtx=print_confusion_matrix(y_test,y_pred_m_idf,list(set(y_test)),'idf_mnlb')\n",
    "# with open('goodmtx.pickle','wb') as f:\n",
    "#     pickle.dump(confusemtx, f, pickle.HIGHEST_PROTOCOL)"
   ]
  },
  {
   "cell_type": "code",
   "execution_count": 50,
   "metadata": {},
   "outputs": [
    {
     "name": "stdout",
     "output_type": "stream",
     "text": [
      "['juvenal', 'catullus', 'caesar', 'ovid', 'virgil', 'horace']\n",
      "Precision Score: [0.62240664 0.59036145 0.79097744 0.68314425 0.66666667 0.79127726]\n",
      "Recall Score: [0.52631579 0.2565445  0.97588126 0.77127173 0.83895131 0.32522407]\n",
      "Accuracy Score: 0.6964962121212122\n",
      "F1 Score: [0.57034221 0.35766423 0.87375415 0.72453803 0.74295191 0.46098004]\n"
     ]
    },
    {
     "data": {
      "image/png": "[encoded data removed]",
      "text/plain": [
       "<Figure size 720x504 with 2 Axes>"
      ]
     },
     "metadata": {
      "needs_background": "light"
     },
     "output_type": "display_data"
    }
   ],
   "source": [
    "confusemtx=print_confusion_matrix(y_test,y_pred_m_idf,list(set(y_test)),'idf_mnlb')\n",
    "print_metrics(y_test,y_pred_c_idf,list(set(y_test)))"
   ]
  },
  {
   "cell_type": "code",
   "execution_count": 71,
   "metadata": {
    "scrolled": false
   },
   "outputs": [
    {
     "name": "stdout",
     "output_type": "stream",
     "text": [
      "catullus:  765\n",
      "virgil:  5339\n",
      "ovid:  4373\n",
      "caesar:  2156\n",
      "horace:  3122\n",
      "juvenal:  1141\n",
      "\n",
      " just in test set: \n",
      " virgil      1335\n",
      "ovid        1093\n",
      "horace       781\n",
      "caesar       539\n",
      "juvenal      285\n",
      "catullus     191\n",
      "dtype: int64\n"
     ]
    }
   ],
   "source": [
    "print('catullus: ',len(catullus_labels))\n",
    "print('virgil: ',len(virgil_labels))\n",
    "print('ovid: ',len(ovid_labels))\n",
    "# print('cicero: ',len(cicero_labels))\n",
    "print('caesar: ',len(caesar_labels))\n",
    "print('horace: ',len(horace_labels))\n",
    "print('juvenal: ',len(juvenal_labels))\n",
    "print('\\n just in test set: \\n',pd.Series(y_test).value_counts())"
   ]
  },
  {
   "cell_type": "code",
   "execution_count": 72,
   "metadata": {},
   "outputs": [],
   "source": [
    "from sklearn.metrics import precision_score, recall_score, accuracy_score, f1_score\n",
    "def print_metrics(test, preds,labels):\n",
    "    print(labels)\n",
    "    print(\"Precision Score: {}\".format(precision_score(test, preds,average=None,labels=labels)))\n",
    "    print(\"Recall Score: {}\".format(recall_score(test, preds,average=None,labels=labels)))\n",
    "    print(\"Accuracy Score: {}\".format(accuracy_score(test, preds)))\n",
    "    print(\"F1 Score: {}\".format(f1_score(test, preds,average=None,labels=labels)))"
   ]
  },
  {
   "cell_type": "code",
   "execution_count": 73,
   "metadata": {},
   "outputs": [
    {
     "name": "stdout",
     "output_type": "stream",
     "text": [
      "['catullus', 'caesar', 'ovid', 'virgil', 'horace', 'juvenal']\n",
      "Precision Score: [0.59036145 0.79097744 0.68314425 0.66666667 0.79127726 0.62240664]\n",
      "Recall Score: [0.2565445  0.97588126 0.77127173 0.83895131 0.32522407 0.52631579]\n",
      "Accuracy Score: 0.6964962121212122\n",
      "F1 Score: [0.35766423 0.87375415 0.72453803 0.74295191 0.46098004 0.57034221]\n"
     ]
    }
   ],
   "source": [
    "print_metrics(y_test,y_pred_c_idf,list(set(y_test)))\n",
    "#Caesar has the most proper nouns probably, most distinctive"
   ]
  },
  {
   "cell_type": "code",
   "execution_count": null,
   "metadata": {},
   "outputs": [],
   "source": []
  }
 ],
 "metadata": {
  "kernelspec": {
   "display_name": "Python 3",
   "language": "python",
   "name": "python3"
  },
  "language_info": {
   "codemirror_mode": {
    "name": "ipython",
    "version": 3
   },
   "file_extension": ".py",
   "mimetype": "text/x-python",
   "name": "python",
   "nbconvert_exporter": "python",
   "pygments_lexer": "ipython3",
   "version": "3.7.3"
  }
 },
 "nbformat": 4,
 "nbformat_minor": 2
}
