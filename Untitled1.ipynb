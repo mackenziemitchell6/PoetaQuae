{
 "cells": [
  {
   "cell_type": "code",
   "execution_count": 1,
   "metadata": {},
   "outputs": [],
   "source": [
    "import pandas as pd\n",
    "import requests\n",
    "from bs4 import BeautifulSoup\n",
    "from nltk.tokenize.repp import ReppTokenizer\n",
    "import numpy as np\n",
    "from cltk.tokenize.word import WordTokenizer\n",
    "from cltk.corpus.utils.importer import CorpusImporter\n",
    "from nltk.tokenize.punkt import PunktLanguageVars\n",
    "from cltk.stop.latin import STOPS_LIST\n",
    "from cltk.vector.word2vec import make_model\n",
    "from cltk.stem.latin.j_v import JVReplacer\n",
    "from nltk import FreqDist\n",
    "from sklearn.model_selection import train_test_split\n",
    "from sklearn.feature_extraction.text import CountVectorizer, TfidfVectorizer\n",
    "from sklearn.feature_extraction.text import TfidfTransformer\n",
    "import re\n",
    "cv=CountVectorizer(analyzer='word')\n",
    "j = JVReplacer()\n",
    "from cltk.lemmatize.latin.backoff import BackoffLatinLemmatizer\n",
    "lemmatizer = BackoffLatinLemmatizer()\n",
    "corpus_importer=CorpusImporter('latin')\n",
    "corpus_importer.list_corpora\n",
    "corpus_importer.import_corpus('latin_models_cltk')\n",
    "import pickle"
   ]
  },
  {
   "cell_type": "code",
   "execution_count": 2,
   "metadata": {},
   "outputs": [],
   "source": [
    "with open('caesar.pickle','rb') as f:\n",
    "    caesar=pickle.load(f)\n",
    "with open('ovid.pickle','rb') as f:\n",
    "    ovid=pickle.load(f)\n",
    "with open('cicero.pickle','rb') as f:\n",
    "    cicero=pickle.load(f)\n",
    "with open('catullus_stops.pkl','rb') as f:\n",
    "    catullus=pickle.load(f)\n",
    "with open('horace_stops.pkl','rb') as f:\n",
    "    horace=pickle.load(f)\n",
    "with open('virgil_stops.pkl','rb') as f:\n",
    "    virgil=pickle.load(f)\n",
    "with open('juvenal_stops.pkl','rb') as f:\n",
    "    juvenal=pickle.load(f)"
   ]
  },
  {
   "cell_type": "code",
   "execution_count": 3,
   "metadata": {},
   "outputs": [],
   "source": [
    "catullus_sentences=[' '.join(sentence) for sentence in catullus]\n",
    "virgil_sentences=[' '.join(sentence) for sentence in virgil]\n",
    "horace_sentences=[' '.join(sentence) for sentence in horace]\n",
    "juvenal_sentences=[' '.join(sentence) for sentence in juvenal]\n",
    "caesar_sentences=[' '.join(sentence) for sentence in caesar]\n",
    "ovid_sentences=[' '.join(sentence) for sentence in ovid]\n",
    "cicero_sentences=[' '.join(sentence) for sentence in cicero]"
   ]
  },
  {
   "cell_type": "code",
   "execution_count": 4,
   "metadata": {},
   "outputs": [],
   "source": [
    "catullus_labels=['catullus' for sentence in catullus_sentences]\n",
    "virgil_labels=['virgil' for sentence in virgil_sentences]\n",
    "horace_labels=['horace' for sentence in horace_sentences]\n",
    "juvenal_labels=['juvenal' for sentence in juvenal_sentences]\n",
    "caesar_labels=['caesar' for sentence in caesar_sentences]\n",
    "ovid_labels=['ovid' for sentence in ovid_sentences]\n",
    "cicero_labels=['cicero' for sentence in cicero_sentences]"
   ]
  },
  {
   "cell_type": "code",
   "execution_count": 6,
   "metadata": {},
   "outputs": [],
   "source": [
    "auth=(catullus_labels+virgil_labels+horace_labels+juvenal_labels+caesar_labels+ovid_labels)\n",
    "dat=(catullus_sentences + virgil_sentences + horace_sentences + juvenal_sentences \n",
    "     + caesar_sentences + ovid_sentences)"
   ]
  },
  {
   "cell_type": "code",
   "execution_count": 23,
   "metadata": {},
   "outputs": [],
   "source": [
    "xtrain, xtest, ytrain, ytest=train_test_split(dat,auth,stratify=auth)"
   ]
  },
  {
   "cell_type": "code",
   "execution_count": 8,
   "metadata": {},
   "outputs": [],
   "source": [
    "cv=CountVectorizer()\n",
    "fordf=cv.fit_transform(xtrain)\n",
    "cols=cv.get_feature_names()\n",
    "traindf_=pd.DataFrame(fordf.toarray(),columns=cols)"
   ]
  },
  {
   "cell_type": "code",
   "execution_count": 9,
   "metadata": {},
   "outputs": [],
   "source": [
    "fordftest=cv.transform(xtest)\n",
    "colstest=cv.get_feature_names()\n",
    "testdf_=pd.DataFrame(fordftest.toarray(),columns=cols)"
   ]
  },
  {
   "cell_type": "code",
   "execution_count": 10,
   "metadata": {},
   "outputs": [],
   "source": [
    "from sklearn.feature_extraction.text import TfidfTransformer\n",
    "tff=TfidfTransformer(use_idf=False)\n",
    "tft=TfidfTransformer(use_idf=True)\n",
    "transtraindf=tff.fit_transform(fordf.toarray())\n",
    "idfdfdat=tft.fit_transform(fordf.toarray())"
   ]
  },
  {
   "cell_type": "code",
   "execution_count": 11,
   "metadata": {},
   "outputs": [],
   "source": [
    "non_idf_test = tff.transform(fordftest)\n",
    "idf_test = tft.transform(fordftest)\n",
    "non_idf_test_df = pd.DataFrame(non_idf_test.toarray(), columns = colstest)\n",
    "idf_test_df = pd.DataFrame(idf_test.toarray(), columns=colstest)"
   ]
  },
  {
   "cell_type": "code",
   "execution_count": 12,
   "metadata": {},
   "outputs": [],
   "source": [
    "f_train_=pd.DataFrame(transtraindf.toarray(),columns=cv.get_feature_names())"
   ]
  },
  {
   "cell_type": "code",
   "execution_count": 13,
   "metadata": {},
   "outputs": [],
   "source": [
    "df_idf_train_=pd.DataFrame(idfdfdat.toarray(),columns=cv.get_feature_names())"
   ]
  },
  {
   "cell_type": "code",
   "execution_count": 14,
   "metadata": {},
   "outputs": [],
   "source": [
    "from sklearn.naive_bayes import MultinomialNB\n",
    "from sklearn.naive_bayes import ComplementNB"
   ]
  },
  {
   "cell_type": "code",
   "execution_count": 15,
   "metadata": {},
   "outputs": [],
   "source": [
    "mnd=MultinomialNB(alpha=1)\n",
    "cnb=ComplementNB(alpha=1)"
   ]
  },
  {
   "cell_type": "code",
   "execution_count": 18,
   "metadata": {},
   "outputs": [
    {
     "data": {
      "text/plain": [
       "ComplementNB(alpha=1, class_prior=None, fit_prior=True, norm=False)"
      ]
     },
     "execution_count": 18,
     "metadata": {},
     "output_type": "execute_result"
    }
   ],
   "source": [
    "mnd.fit(traindf_,ytrain)\n",
    "cnb.fit(traindf_,ytrain)"
   ]
  },
  {
   "cell_type": "code",
   "execution_count": 21,
   "metadata": {},
   "outputs": [],
   "source": [
    "y_pred_m=mnd.predict(idf_test_df)\n",
    "y_pred_c=cnb.predict(non_idf_test_df)"
   ]
  },
  {
   "cell_type": "code",
   "execution_count": 19,
   "metadata": {},
   "outputs": [],
   "source": [
    "import pandas as pd\n",
    "import matplotlib.pyplot as plt\n",
    "import seaborn as sns\n",
    "from sklearn.metrics import confusion_matrix\n",
    "def print_confusion_matrix(test_y, pred_y, class_names, figsize = (10,7), fontsize=14):\n",
    "    \"\"\"Prints a confusion matrix, as returned by sklearn.metrics.confusion_matrix, as a heatmap.\n",
    "    \n",
    "    Arguments\n",
    "    ---------\n",
    "    confusion_matrix: numpy.ndarray\n",
    "        The numpy.ndarray object returned from a call to sklearn.metrics.confusion_matrix. \n",
    "        Similarly constructed ndarrays can also be used.\n",
    "    class_names: list\n",
    "        An ordered list of class names, in the order they index the given confusion matrix.\n",
    "    figsize: tuple\n",
    "        A 2-long tuple, the first value determining the horizontal size of the ouputted figure,\n",
    "        the second determining the vertical size. Defaults to (10,7).\n",
    "    fontsize: int\n",
    "        Font size for axes labels. Defaults to 14.\n",
    "        \n",
    "    Returns\n",
    "    -------\n",
    "    matplotlib.figure.Figure\n",
    "        The resulting confusion matrix figure\n",
    "    \"\"\"\n",
    "    confusionmatrix=confusion_matrix(test_y,pred_y,labels=class_names)\n",
    "    df_cm = pd.DataFrame(\n",
    "        confusionmatrix, index=class_names, columns=class_names, \n",
    "    )\n",
    "    fig = plt.figure(figsize=figsize)\n",
    "    try:\n",
    "        heatmap = sns.heatmap(df_cm, annot=True, fmt=\"d\")\n",
    "    except ValueError:\n",
    "        raise ValueError(\"Confusion matrix values must be integers.\")\n",
    "    heatmap.yaxis.set_ticklabels(heatmap.yaxis.get_ticklabels(), rotation=0, ha='right', fontsize=fontsize)\n",
    "    heatmap.xaxis.set_ticklabels(heatmap.xaxis.get_ticklabels(), rotation=45, ha='right', fontsize=fontsize)\n",
    "    plt.ylabel('True label')\n",
    "    plt.xlabel('Predicted label')\n",
    "    return fig"
   ]
  },
  {
   "cell_type": "code",
   "execution_count": 28,
   "metadata": {},
   "outputs": [
    {
     "data": {
      "image/png": "[encoded data removed]",
      "text/plain": [
       "<Figure size 720x504 with 2 Axes>"
      ]
     },
     "metadata": {
      "needs_background": "light"
     },
     "output_type": "display_data"
    }
   ],
   "source": [
    "confusemtx=print_confusion_matrix(ytest,y_pred_m,list(set(ytest)))\n",
    "# with open('badconfusemtx.pickle','wb') as f:\n",
    "#     pickle.dump(confusemtx, f, pickle.HIGHEST_PROTOCOL)"
   ]
  },
  {
   "cell_type": "code",
   "execution_count": null,
   "metadata": {},
   "outputs": [],
   "source": []
  }
 ],
 "metadata": {
  "kernelspec": {
   "display_name": "Python 3",
   "language": "python",
   "name": "python3"
  },
  "language_info": {
   "codemirror_mode": {
    "name": "ipython",
    "version": 3
   },
   "file_extension": ".py",
   "mimetype": "text/x-python",
   "name": "python",
   "nbconvert_exporter": "python",
   "pygments_lexer": "ipython3",
   "version": "3.7.3"
  }
 },
 "nbformat": 4,
 "nbformat_minor": 2
}
